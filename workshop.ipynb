{
 "nbformat": 4,
 "nbformat_minor": 2,
 "metadata": {
  "language_info": {
   "name": "python",
   "codemirror_mode": {
    "name": "ipython",
    "version": 3
   },
   "version": "3.7.3-final"
  },
  "orig_nbformat": 2,
  "file_extension": ".py",
  "mimetype": "text/x-python",
  "name": "python",
  "npconvert_exporter": "python",
  "pygments_lexer": "ipython3",
  "version": 3,
  "kernelspec": {
   "name": "python3",
   "display_name": "Python 3"
  }
 },
 "cells": [
  {
   "cell_type": "markdown",
   "execution_count": null,
   "metadata": {},
   "outputs": [],
   "source": [
    "# Introduction:\n",
    "Suppose you run the platelet distribution department of a blood bank. This blood bank is associated with a very critical medical center, that have a daily need for platelets. Human blood platelets are a very complicated product, because they have very short shelf life (they will be useless after 72 hours from their production) and are also very expensive to produce. The planning department of the blood bank has produced a very accurate demand estimate for the medical center, so you already know what the demand for the medical center in the next thirty days will be. Your daily production capacity is 100. The blood bank storage unit is damaged, so all produced units must head the medical center. Producing a platelet unit costs about 50 $\\$$, so all expired units represent this amount as a loss. The blood bank has estimated that every unfulfilled demand unit cost about 500 $\\$$.  With all this considered, estimate an optimal (or near optimal) daily shipment schedule for the next thirty days.\n",
    "\n",
    "Hints: \n",
    "- Think about how to represent the state of the system at any point in time.\n",
    "- Think about the logic of the system, how are transitions between states perfomed?\n",
    "- A production schedule is represented by a 30-number list (the shipment size for each day).\n",
    "- How could you measure the performance of your shipment schedule? What is the nature of the objective function?"
   ]
  },
  {
   "cell_type": "code",
   "execution_count": 1,
   "metadata": {},
   "outputs": [
    {
     "name": "stdout",
     "output_type": "stream",
     "text": "Requirement already satisfied: pandas in c:\\users\\juan0\\anaconda3\\lib\\site-packages (0.24.2)\nRequirement already satisfied: numpy in c:\\users\\juan0\\anaconda3\\lib\\site-packages (1.16.4)\nRequirement already satisfied: pytz>=2011k in c:\\users\\juan0\\anaconda3\\lib\\site-packages (from pandas) (2019.1)\nRequirement already satisfied: python-dateutil>=2.5.0 in c:\\users\\juan0\\anaconda3\\lib\\site-packages (from pandas) (2.8.0)\nRequirement already satisfied: six>=1.5 in c:\\users\\juan0\\appdata\\roaming\\python\\python37\\site-packages (from python-dateutil>=2.5.0->pandas) (1.12.0)\n"
    },
    {
     "data": {
      "text/html": "<div>\n<style scoped>\n    .dataframe tbody tr th:only-of-type {\n        vertical-align: middle;\n    }\n\n    .dataframe tbody tr th {\n        vertical-align: top;\n    }\n\n    .dataframe thead th {\n        text-align: right;\n    }\n</style>\n<table border=\"1\" class=\"dataframe\">\n  <thead>\n    <tr style=\"text-align: right;\">\n      <th></th>\n      <th>client_demand</th>\n    </tr>\n  </thead>\n  <tbody>\n    <tr>\n      <th>0</th>\n      <td>96</td>\n    </tr>\n    <tr>\n      <th>1</th>\n      <td>110</td>\n    </tr>\n    <tr>\n      <th>2</th>\n      <td>141</td>\n    </tr>\n    <tr>\n      <th>3</th>\n      <td>87</td>\n    </tr>\n    <tr>\n      <th>4</th>\n      <td>108</td>\n    </tr>\n    <tr>\n      <th>5</th>\n      <td>113</td>\n    </tr>\n    <tr>\n      <th>6</th>\n      <td>88</td>\n    </tr>\n    <tr>\n      <th>7</th>\n      <td>109</td>\n    </tr>\n    <tr>\n      <th>8</th>\n      <td>120</td>\n    </tr>\n    <tr>\n      <th>9</th>\n      <td>118</td>\n    </tr>\n    <tr>\n      <th>10</th>\n      <td>97</td>\n    </tr>\n    <tr>\n      <th>11</th>\n      <td>94</td>\n    </tr>\n    <tr>\n      <th>12</th>\n      <td>147</td>\n    </tr>\n    <tr>\n      <th>13</th>\n      <td>94</td>\n    </tr>\n    <tr>\n      <th>14</th>\n      <td>132</td>\n    </tr>\n    <tr>\n      <th>15</th>\n      <td>87</td>\n    </tr>\n    <tr>\n      <th>16</th>\n      <td>127</td>\n    </tr>\n    <tr>\n      <th>17</th>\n      <td>103</td>\n    </tr>\n    <tr>\n      <th>18</th>\n      <td>147</td>\n    </tr>\n    <tr>\n      <th>19</th>\n      <td>136</td>\n    </tr>\n    <tr>\n      <th>20</th>\n      <td>144</td>\n    </tr>\n    <tr>\n      <th>21</th>\n      <td>95</td>\n    </tr>\n    <tr>\n      <th>22</th>\n      <td>136</td>\n    </tr>\n    <tr>\n      <th>23</th>\n      <td>126</td>\n    </tr>\n    <tr>\n      <th>24</th>\n      <td>114</td>\n    </tr>\n    <tr>\n      <th>25</th>\n      <td>131</td>\n    </tr>\n    <tr>\n      <th>26</th>\n      <td>123</td>\n    </tr>\n    <tr>\n      <th>27</th>\n      <td>108</td>\n    </tr>\n    <tr>\n      <th>28</th>\n      <td>100</td>\n    </tr>\n    <tr>\n      <th>29</th>\n      <td>133</td>\n    </tr>\n  </tbody>\n</table>\n</div>",
      "text/plain": "    client_demand\n0              96\n1             110\n2             141\n3              87\n4             108\n5             113\n6              88\n7             109\n8             120\n9             118\n10             97\n11             94\n12            147\n13             94\n14            132\n15             87\n16            127\n17            103\n18            147\n19            136\n20            144\n21             95\n22            136\n23            126\n24            114\n25            131\n26            123\n27            108\n28            100\n29            133"
     },
     "execution_count": 1,
     "metadata": {},
     "output_type": "execute_result"
    }
   ],
   "source": [
    "!pip install pandas numpy\n",
    "import pandas as pd\n",
    "import numpy as np\n",
    "demand=pd.read_csv('data/demands.csv')\n",
    "demand.head(30)"
   ]
  },
  {
   "cell_type": "code",
   "execution_count": null,
   "metadata": {},
   "outputs": [],
   "source": []
  }
 ]
}