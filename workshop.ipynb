{
 "nbformat": 4,
 "nbformat_minor": 2,
 "metadata": {
  "language_info": {
   "name": "python",
   "codemirror_mode": {
    "name": "ipython",
    "version": 3
   },
   "version": "3.7.3-final"
  },
  "orig_nbformat": 2,
  "file_extension": ".py",
  "mimetype": "text/x-python",
  "name": "python",
  "npconvert_exporter": "python",
  "pygments_lexer": "ipython3",
  "version": 3,
  "kernelspec": {
   "name": "python37364bitbasecondae7a75f3485c04cf9960cccda756a2bae",
   "display_name": "Python 3.7.3 64-bit ('base': conda)"
  }
 },
 "cells": [
  {
   "cell_type": "markdown",
   "execution_count": null,
   "metadata": {},
   "outputs": [],
   "source": [
    "# Introduction:\n",
    "Suppose you run the platelet distribution department of a blood bank. This blood bank is associated with a very critical medical center, that have a daily need for platelets. Human blood platelets are a very complicated product, because they have very short shelf life (they will be useless after 72 hours from their production) and are also very expensive to produce. The planning department of the blood bank has produced a very accurate demand estimate for the medical center, so you already know what the demand for the medical center in the next thirty days will be. Your daily production capacity is 100. The blood bank storage unit is damaged, so all produced units must head the medical center. Producing a platelet unit costs about 50 \\$, so all expired units represent this amount as a loss. The blood bank has estimated that every unfulfilled demand unit cost about 500 \\$.  With all this considered, estimate an optimal (or near optimal) daily shipment schedule for the next thirty days.\n",
    "\n",
    "Hints: \n",
    "- Think about how to represent the state of the system at any point in time.\n",
    "- Think about the logic of the system, how are transitions between states perfomed?\n",
    "- A production schedule is represented by a 30-number list (the shipment size for each day).\n",
    "- How could you measure the performance of your shipment schedule? What is the nature of the objective function?"
   ]
  },
  {
   "cell_type": "code",
   "execution_count": null,
   "metadata": {},
   "outputs": [],
   "source": [
    "!pip install pandas numpy\n",
    "import pandas as pd\n",
    "import numpy as np\n",
    "demand=pd.read_csv('data/demands.csv')\n",
    "demand.head(30)\n"
   ]
  },
  {
   "cell_type": "code",
   "execution_count": null,
   "metadata": {},
   "outputs": [],
   "source": []
  }
 ]
}